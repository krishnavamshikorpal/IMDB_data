{
  "nbformat": 4,
  "nbformat_minor": 0,
  "metadata": {
    "colab": {
      "name": "imbd.ipynb",
      "provenance": [],
      "collapsed_sections": []
    },
    "kernelspec": {
      "name": "python3",
      "display_name": "Python 3"
    },
    "accelerator": "GPU"
  },
  "cells": [
    {
      "cell_type": "code",
      "metadata": {
        "id": "FmDrHFjjXDqe"
      },
      "source": [
        "\n",
        "from keras.datasets import imdb\n"
      ],
      "execution_count": null,
      "outputs": []
    },
    {
      "cell_type": "code",
      "metadata": {
        "id": "hgbmeEHLa9VY",
        "colab": {
          "base_uri": "https://localhost:8080/",
          "height": 52
        },
        "outputId": "cd94d861-48cb-4184-fb32-e7d6f94926c9"
      },
      "source": [
        "(train_data, train_labels), (test_data, test_labels) = imdb.load_data(num_words=10000)"
      ],
      "execution_count": null,
      "outputs": [
        {
          "output_type": "stream",
          "text": [
            "Downloading data from https://storage.googleapis.com/tensorflow/tf-keras-datasets/imdb.npz\n",
            "17465344/17464789 [==============================] - 0s 0us/step\n"
          ],
          "name": "stdout"
        }
      ]
    },
    {
      "cell_type": "code",
      "metadata": {
        "id": "PMjQA68ndiAy",
        "colab": {
          "base_uri": "https://localhost:8080/",
          "height": 89
        },
        "outputId": "7171bda6-1157-45f8-bfe3-c99768022fe0"
      },
      "source": [
        "word_index = imdb.get_word_index()\n",
        "reversed_list = dict([(value, key) for (key, value) in word_index.items()])\n",
        "decode_review = ' '.join([reversed_list.get(i-3, '?') for i in train_data[0]])\n",
        "print(decode_review)"
      ],
      "execution_count": null,
      "outputs": [
        {
          "output_type": "stream",
          "text": [
            "Downloading data from https://storage.googleapis.com/tensorflow/tf-keras-datasets/imdb_word_index.json\n",
            "1646592/1641221 [==============================] - 0s 0us/step\n",
            "? this film was just brilliant casting location scenery story direction everyone's really suited the part they played and you could just imagine being there robert ? is an amazing actor and now the same being director ? father came from the same scottish island as myself so i loved the fact there was a real connection with this film the witty remarks throughout the film were great it was just brilliant so much that i bought the film as soon as it was released for ? and would recommend it to everyone to watch and the fly fishing was amazing really cried at the end it was so sad and you know what they say if you cry at a film it must have been good and this definitely was also ? to the two little boy's that played the ? of norman and paul they were just brilliant children are often left out of the ? list i think because the stars that play them all grown up are such a big profile for the whole film but these children are amazing and should be praised for what they have done don't you think the whole story was so lovely because it was true and was someone's life after all that was shared with us all\n"
          ],
          "name": "stdout"
        }
      ]
    },
    {
      "cell_type": "code",
      "metadata": {
        "id": "ED_NAodpgoAb",
        "colab": {
          "base_uri": "https://localhost:8080/",
          "height": 35
        },
        "outputId": "c83195dd-c5b0-41cd-c5fd-a8550286a890"
      },
      "source": [
        "len(test_data)"
      ],
      "execution_count": null,
      "outputs": [
        {
          "output_type": "execute_result",
          "data": {
            "text/plain": [
              "25000"
            ]
          },
          "metadata": {
            "tags": []
          },
          "execution_count": 5
        }
      ]
    },
    {
      "cell_type": "code",
      "metadata": {
        "id": "gQkkCvkniUKl",
        "colab": {
          "base_uri": "https://localhost:8080/",
          "height": 35
        },
        "outputId": "31e6ac91-1e0d-424d-b9da-d0b8b4e641c4"
      },
      "source": [
        "train_data.shape"
      ],
      "execution_count": null,
      "outputs": [
        {
          "output_type": "execute_result",
          "data": {
            "text/plain": [
              "(25000,)"
            ]
          },
          "metadata": {
            "tags": []
          },
          "execution_count": 6
        }
      ]
    },
    {
      "cell_type": "code",
      "metadata": {
        "id": "lsRo0V8pipqp",
        "colab": {
          "base_uri": "https://localhost:8080/",
          "height": 35
        },
        "outputId": "82012ae5-b0bf-4711-ea9a-932837938709"
      },
      "source": [
        "\"Python\".ljust(12, \"*\")"
      ],
      "execution_count": null,
      "outputs": [
        {
          "output_type": "execute_result",
          "data": {
            "application/vnd.google.colaboratory.intrinsic+json": {
              "type": "string"
            },
            "text/plain": [
              "'Python******'"
            ]
          },
          "metadata": {
            "tags": []
          },
          "execution_count": 7
        }
      ]
    },
    {
      "cell_type": "code",
      "metadata": {
        "id": "ttG7zkDQ740a"
      },
      "source": [
        "import numpy as np\n",
        "def vectorize_sequences(seq, dim=10000):\n",
        "  res = np.zeros((len(seq), dim))\n",
        "  for i, seq in enumerate(seq):\n",
        "    res[i, seq] = 1.\n",
        "  return res\n"
      ],
      "execution_count": null,
      "outputs": []
    },
    {
      "cell_type": "code",
      "metadata": {
        "id": "MYM2O9-h6qV5"
      },
      "source": [
        "x_train = vectorize_sequences(train_data)\n",
        "x_test = vectorize_sequences(test_data)"
      ],
      "execution_count": null,
      "outputs": []
    },
    {
      "cell_type": "code",
      "metadata": {
        "id": "xK2mgeWP7Ctq"
      },
      "source": [
        "y_train = np.asarray(train_labels).astype('float32')\n",
        "y_test = np.asarray(test_labels).astype('float32')"
      ],
      "execution_count": null,
      "outputs": []
    },
    {
      "cell_type": "code",
      "metadata": {
        "id": "MV7ms8vo7cMm"
      },
      "source": [
        "from keras import models\n",
        "from keras import layers\n",
        "import matplotlib.pyplot as plt\n"
      ],
      "execution_count": null,
      "outputs": []
    },
    {
      "cell_type": "code",
      "metadata": {
        "id": "W9K-7Z907nd_"
      },
      "source": [
        "model = models.Sequential()\n",
        "model.add(layers.Dense(16, activation='relu', input_shape=(10000, )))\n",
        "model.add(layers.Dense(16, activation='relu'))\n",
        "model.add(layers.Dense(1, activation='sigmoid'))\n",
        "\n",
        "model.compile(optimizer='rmsprop', loss='binary_crossentropy', metrics=['accuracy'])"
      ],
      "execution_count": null,
      "outputs": []
    },
    {
      "cell_type": "code",
      "metadata": {
        "id": "DBpwypiF8vZg",
        "colab": {
          "base_uri": "https://localhost:8080/",
          "height": 260
        },
        "outputId": "74d9cae7-4164-452c-ab32-d18a38ede549"
      },
      "source": [
        "model.summary()"
      ],
      "execution_count": null,
      "outputs": [
        {
          "output_type": "stream",
          "text": [
            "Model: \"sequential\"\n",
            "_________________________________________________________________\n",
            "Layer (type)                 Output Shape              Param #   \n",
            "=================================================================\n",
            "dense (Dense)                (None, 16)                160016    \n",
            "_________________________________________________________________\n",
            "dense_1 (Dense)              (None, 16)                272       \n",
            "_________________________________________________________________\n",
            "dense_2 (Dense)              (None, 1)                 17        \n",
            "=================================================================\n",
            "Total params: 160,305\n",
            "Trainable params: 160,305\n",
            "Non-trainable params: 0\n",
            "_________________________________________________________________\n"
          ],
          "name": "stdout"
        }
      ]
    },
    {
      "cell_type": "code",
      "metadata": {
        "id": "CgJQ9Mg8nyop"
      },
      "source": [
        "x_val = x_train[:10000]\n",
        "x_partial_train = x_train[10000:]\n",
        "y_val = y_train[:10000]\n",
        "y_partial_train = y_train[10000:] "
      ],
      "execution_count": null,
      "outputs": []
    },
    {
      "cell_type": "code",
      "metadata": {
        "id": "n_KnqUyg80PO",
        "colab": {
          "base_uri": "https://localhost:8080/",
          "height": 173
        },
        "outputId": "90650661-4905-47d5-bf0d-24d341eef165"
      },
      "source": [
        "import time\n",
        "start = time.time()\n",
        "model.fit(x_partial_train, y_partial_train, epochs=4, batch_size=512, validation_data=(x_val, y_val))\n",
        "end = time.time()\n",
        "print(end-start)"
      ],
      "execution_count": null,
      "outputs": [
        {
          "output_type": "stream",
          "text": [
            "Epoch 1/4\n",
            "30/30 [==============================] - 1s 29ms/step - loss: 0.5232 - accuracy: 0.7794 - val_loss: 0.3912 - val_accuracy: 0.8708\n",
            "Epoch 2/4\n",
            "30/30 [==============================] - 1s 17ms/step - loss: 0.3054 - accuracy: 0.9037 - val_loss: 0.3054 - val_accuracy: 0.8835\n",
            "Epoch 3/4\n",
            "30/30 [==============================] - 1s 18ms/step - loss: 0.2218 - accuracy: 0.9263 - val_loss: 0.2760 - val_accuracy: 0.8934\n",
            "Epoch 4/4\n",
            "30/30 [==============================] - 1s 19ms/step - loss: 0.1735 - accuracy: 0.9431 - val_loss: 0.2988 - val_accuracy: 0.8800\n",
            "4.991288900375366\n"
          ],
          "name": "stdout"
        }
      ]
    },
    {
      "cell_type": "code",
      "metadata": {
        "id": "IOKx-u8g9Wx7",
        "colab": {
          "base_uri": "https://localhost:8080/",
          "height": 35
        },
        "outputId": "c44f402d-dcb6-4fdd-ac16-f9b2213c2d08"
      },
      "source": [
        "summary = model.history.history\n",
        "summary.keys()"
      ],
      "execution_count": null,
      "outputs": [
        {
          "output_type": "execute_result",
          "data": {
            "text/plain": [
              "dict_keys(['loss', 'accuracy', 'val_loss', 'val_accuracy'])"
            ]
          },
          "metadata": {
            "tags": []
          },
          "execution_count": 16
        }
      ]
    },
    {
      "cell_type": "code",
      "metadata": {
        "id": "x-XbF00r9qNs",
        "colab": {
          "base_uri": "https://localhost:8080/",
          "height": 295
        },
        "outputId": "f6d6350d-6adf-438f-bda0-e6655ed929c7"
      },
      "source": [
        "loss_values = summary['loss']\n",
        "val_loss = summary['val_loss']\n",
        "epochs = range(1, 5)\n",
        "plt.plot(epochs, loss_values, 'bo', label = \"Training loss\")\n",
        "plt.plot(epochs, val_loss, 'ro', label = \"validation loss\")\n",
        "plt.title('Training & Validation loss for Tiny model')\n",
        "plt.xlabel('Epochs')\n",
        "plt.ylabel('Loss')\n",
        "plt.legend()\n",
        "plt.show()"
      ],
      "execution_count": null,
      "outputs": [
        {
          "output_type": "display_data",
          "data": {
            "image/png": "[encoded data removed]",
            "text/plain": [
              "<Figure size 432x288 with 1 Axes>"
            ]
          },
          "metadata": {
            "tags": [],
            "needs_background": "light"
          }
        }
      ]
    },
    {
      "cell_type": "code",
      "metadata": {
        "id": "ex7oSQRStoXU",
        "colab": {
          "base_uri": "https://localhost:8080/",
          "height": 52
        },
        "outputId": "0605be21-73ac-4370-dc20-ab7fd7a8bc83"
      },
      "source": [
        "model.evaluate(x_test, y_test)"
      ],
      "execution_count": null,
      "outputs": [
        {
          "output_type": "stream",
          "text": [
            "782/782 [==============================] - 2s 2ms/step - loss: 0.3155 - accuracy: 0.8721\n"
          ],
          "name": "stdout"
        },
        {
          "output_type": "execute_result",
          "data": {
            "text/plain": [
              "[0.31554821133613586, 0.8720800280570984]"
            ]
          },
          "metadata": {
            "tags": []
          },
          "execution_count": 18
        }
      ]
    },
    {
      "cell_type": "code",
      "metadata": {
        "id": "v_ezYJqeBkKt"
      },
      "source": [
        "from tensorflow.keras import regularizers"
      ],
      "execution_count": null,
      "outputs": []
    },
    {
      "cell_type": "code",
      "metadata": {
        "id": "584QtW-19uGA"
      },
      "source": [
        "model_r = models.Sequential()\n",
        "model_r.add(layers.Dense(16, activation='relu',\n",
        "                         kernel_regularizer=regularizers.l2(0.1), input_shape=(10000, )))\n",
        "model_r.add(layers.Dense(16, activation='relu',kernel_regularizer=regularizers.l2(0.1)))\n",
        "model_r.add(layers.Dense(1, activation='sigmoid'))\n",
        "\n",
        "model_r.compile(optimizer='rmsprop', loss='binary_crossentropy', metrics=['accuracy'])"
      ],
      "execution_count": null,
      "outputs": []
    },
    {
      "cell_type": "code",
      "metadata": {
        "id": "bJG87xBECFQK",
        "colab": {
          "base_uri": "https://localhost:8080/",
          "height": 381
        },
        "outputId": "fd1d4720-e0d4-4946-f1e7-c8bb73407f66"
      },
      "source": [
        "start = time.time()\n",
        "model_r.fit(x_partial_train, y_partial_train, epochs=10, batch_size=512, validation_data=(x_val, y_val))\n",
        "end = time.time()\n",
        "print(end-start)"
      ],
      "execution_count": null,
      "outputs": [
        {
          "output_type": "stream",
          "text": [
            "Epoch 1/10\n",
            "30/30 [==============================] - 1s 26ms/step - loss: 2.5120 - accuracy: 0.7224 - val_loss: 1.8863 - val_accuracy: 0.8359\n",
            "Epoch 2/10\n",
            "30/30 [==============================] - 1s 18ms/step - loss: 1.7578 - accuracy: 0.8201 - val_loss: 1.6328 - val_accuracy: 0.8250\n",
            "Epoch 3/10\n",
            "30/30 [==============================] - 1s 18ms/step - loss: 1.5204 - accuracy: 0.8264 - val_loss: 1.4387 - val_accuracy: 0.7454\n",
            "Epoch 4/10\n",
            "30/30 [==============================] - 1s 18ms/step - loss: 1.3248 - accuracy: 0.8156 - val_loss: 1.2584 - val_accuracy: 0.7596\n",
            "Epoch 5/10\n",
            "30/30 [==============================] - 1s 18ms/step - loss: 1.1590 - accuracy: 0.8242 - val_loss: 1.1186 - val_accuracy: 0.7280\n",
            "Epoch 6/10\n",
            "30/30 [==============================] - 1s 18ms/step - loss: 1.0225 - accuracy: 0.8287 - val_loss: 0.9664 - val_accuracy: 0.8301\n",
            "Epoch 7/10\n",
            "30/30 [==============================] - 1s 18ms/step - loss: 0.9165 - accuracy: 0.8181 - val_loss: 0.8855 - val_accuracy: 0.7924\n",
            "Epoch 8/10\n",
            "30/30 [==============================] - 1s 19ms/step - loss: 0.8322 - accuracy: 0.8215 - val_loss: 0.7998 - val_accuracy: 0.8253\n",
            "Epoch 9/10\n",
            "30/30 [==============================] - 1s 18ms/step - loss: 0.7661 - accuracy: 0.8232 - val_loss: 0.7571 - val_accuracy: 0.7918\n",
            "Epoch 10/10\n",
            "30/30 [==============================] - 1s 18ms/step - loss: 0.7196 - accuracy: 0.8248 - val_loss: 0.7047 - val_accuracy: 0.8327\n",
            "6.555058240890503\n"
          ],
          "name": "stdout"
        }
      ]
    },
    {
      "cell_type": "code",
      "metadata": {
        "id": "bX4qkrz3CKTR",
        "colab": {
          "base_uri": "https://localhost:8080/",
          "height": 35
        },
        "outputId": "713234eb-8f73-4150-a0e8-5b9fba386464"
      },
      "source": [
        "summary_r = model_r.history.history\n",
        "summary_r.keys()"
      ],
      "execution_count": null,
      "outputs": [
        {
          "output_type": "execute_result",
          "data": {
            "text/plain": [
              "dict_keys(['loss', 'accuracy', 'val_loss', 'val_accuracy'])"
            ]
          },
          "metadata": {
            "tags": []
          },
          "execution_count": 22
        }
      ]
    },
    {
      "cell_type": "code",
      "metadata": {
        "id": "GJy1zqb-CWkW",
        "colab": {
          "base_uri": "https://localhost:8080/",
          "height": 295
        },
        "outputId": "2627d08b-100c-47fb-dfea-69d02a45eb01"
      },
      "source": [
        "loss_values= summary_r['loss']\n",
        "val_loss = summary_r['val_loss']\n",
        "epochs = range(1, 11)\n",
        "plt.plot(epochs, loss_values, 'bo', label = \"Training loss\")\n",
        "plt.plot(epochs, val_loss, 'ro', label = \"validation loss\")\n",
        "plt.title('Training & Validation loss for Tiny model')\n",
        "plt.xlabel('Epochs')\n",
        "plt.ylabel('Loss')\n",
        "plt.legend()\n",
        "plt.show()"
      ],
      "execution_count": null,
      "outputs": [
        {
          "output_type": "display_data",
          "data": {
            "image/png": "[encoded data removed]",
            "text/plain": [
              "<Figure size 432x288 with 1 Axes>"
            ]
          },
          "metadata": {
            "tags": [],
            "needs_background": "light"
          }
        }
      ]
    },
    {
      "cell_type": "code",
      "metadata": {
        "id": "bj6K87opCb4y",
        "colab": {
          "base_uri": "https://localhost:8080/",
          "height": 52
        },
        "outputId": "631b4d27-7c71-4fd4-c213-4483ac55daf5"
      },
      "source": [
        "model_r.evaluate(x_test, y_test)"
      ],
      "execution_count": null,
      "outputs": [
        {
          "output_type": "stream",
          "text": [
            "782/782 [==============================] - 2s 2ms/step - loss: 0.7069 - accuracy: 0.8331\n"
          ],
          "name": "stdout"
        },
        {
          "output_type": "execute_result",
          "data": {
            "text/plain": [
              "[0.7068918943405151, 0.8331199884414673]"
            ]
          },
          "metadata": {
            "tags": []
          },
          "execution_count": 24
        }
      ]
    },
    {
      "cell_type": "markdown",
      "metadata": {
        "id": "iT9FsdZC0V00"
      },
      "source": [
        "**Multilayer model**"
      ]
    },
    {
      "cell_type": "code",
      "metadata": {
        "id": "8X9JF5N2vYAe"
      },
      "source": [
        "model_mul = models.Sequential()\n",
        "model_mul.add(layers.Dense(16, activation='relu', input_shape=(10000, )))\n",
        "model_mul.add(layers.Dense(32, activation='relu'))\n",
        "model_mul.add(layers.Dense(32, activation='relu'))\n",
        "model_mul.add(layers.Dense(32, activation='relu'))\n",
        "model_mul.add(layers.Dense(1, activation='sigmoid'))\n",
        "\n",
        "model_mul.compile(optimizer='rmsprop', loss='binary_crossentropy', metrics=['accuracy'])"
      ],
      "execution_count": null,
      "outputs": []
    },
    {
      "cell_type": "code",
      "metadata": {
        "id": "2s3ugcCA1ADJ",
        "colab": {
          "base_uri": "https://localhost:8080/",
          "height": 173
        },
        "outputId": "39432ece-747f-41fa-9b5c-eaecec7b084e"
      },
      "source": [
        "start = time.time()\n",
        "model_mul.fit(x_partial_train, y_partial_train, epochs=4, batch_size=512, validation_data=(x_val, y_val))\n",
        "end = time.time()\n",
        "print(end-start)"
      ],
      "execution_count": null,
      "outputs": [
        {
          "output_type": "stream",
          "text": [
            "Epoch 1/4\n",
            "30/30 [==============================] - 1s 27ms/step - loss: 0.5274 - accuracy: 0.7681 - val_loss: 0.3759 - val_accuracy: 0.8553\n",
            "Epoch 2/4\n",
            "30/30 [==============================] - 1s 19ms/step - loss: 0.2923 - accuracy: 0.8947 - val_loss: 0.3136 - val_accuracy: 0.8771\n",
            "Epoch 3/4\n",
            "30/30 [==============================] - 1s 19ms/step - loss: 0.2010 - accuracy: 0.9291 - val_loss: 0.2799 - val_accuracy: 0.8891\n",
            "Epoch 4/4\n",
            "30/30 [==============================] - 1s 18ms/step - loss: 0.1613 - accuracy: 0.9419 - val_loss: 0.2927 - val_accuracy: 0.8887\n",
            "3.559316635131836\n"
          ],
          "name": "stdout"
        }
      ]
    },
    {
      "cell_type": "code",
      "metadata": {
        "id": "yfdKYNE51Vhd",
        "colab": {
          "base_uri": "https://localhost:8080/",
          "height": 35
        },
        "outputId": "75d9b558-e4fb-45ce-9cf0-80fb25e1e44a"
      },
      "source": [
        "summary_mul = model_mul.history.history\n",
        "summary_mul.keys()"
      ],
      "execution_count": null,
      "outputs": [
        {
          "output_type": "execute_result",
          "data": {
            "text/plain": [
              "dict_keys(['loss', 'accuracy', 'val_loss', 'val_accuracy'])"
            ]
          },
          "metadata": {
            "tags": []
          },
          "execution_count": 27
        }
      ]
    },
    {
      "cell_type": "code",
      "metadata": {
        "id": "qDyFjzk_1j4E",
        "colab": {
          "base_uri": "https://localhost:8080/",
          "height": 295
        },
        "outputId": "5f6af799-ec9b-4336-8091-e3af7fcb20fa"
      },
      "source": [
        "loss_values= summary_mul['loss']\n",
        "val_loss = summary_mul['val_loss']\n",
        "epochs = range(1, 5)\n",
        "plt.plot(epochs, loss_values, 'bo', label = \"Training loss\")\n",
        "plt.plot(epochs, val_loss, 'ro', label = \"validation loss\")\n",
        "plt.title('Training & Validation loss for Multilayer model')\n",
        "plt.xlabel('Epochs')\n",
        "plt.ylabel('Loss')\n",
        "plt.legend()\n",
        "plt.show()"
      ],
      "execution_count": null,
      "outputs": [
        {
          "output_type": "display_data",
          "data": {
            "image/png": "[encoded data removed]",
            "text/plain": [
              "<Figure size 432x288 with 1 Axes>"
            ]
          },
          "metadata": {
            "tags": [],
            "needs_background": "light"
          }
        }
      ]
    },
    {
      "cell_type": "code",
      "metadata": {
        "id": "gMYm-Wvu1sCm",
        "colab": {
          "base_uri": "https://localhost:8080/",
          "height": 52
        },
        "outputId": "77612abe-54bc-411a-e3c0-b28074913511"
      },
      "source": [
        "model_mul.evaluate(x_test, y_test)"
      ],
      "execution_count": null,
      "outputs": [
        {
          "output_type": "stream",
          "text": [
            "782/782 [==============================] - 2s 2ms/step - loss: 0.3173 - accuracy: 0.8770\n"
          ],
          "name": "stdout"
        },
        {
          "output_type": "execute_result",
          "data": {
            "text/plain": [
              "[0.31733062863349915, 0.8770400285720825]"
            ]
          },
          "metadata": {
            "tags": []
          },
          "execution_count": 29
        }
      ]
    },
    {
      "cell_type": "code",
      "metadata": {
        "id": "YytsVK4Y2Gtc",
        "colab": {
          "base_uri": "https://localhost:8080/",
          "height": 295
        },
        "outputId": "691c8569-0e6d-43fe-8e09-74f584dd6c24"
      },
      "source": [
        "accuracy= summary_mul['accuracy']\n",
        "val_accuracy = summary_mul['val_accuracy']\n",
        "epochs = range(1, 5)\n",
        "plt.plot(epochs, accuracy, 'bo', label = \"Accuracy\")\n",
        "plt.plot(epochs, val_accuracy, 'ro', label = \"validation accuracy \")\n",
        "plt.title('Accuracy & Validation Accuracy for Multilayer model')\n",
        "plt.xlabel('Epochs')\n",
        "plt.ylabel('Accuracy')\n",
        "plt.legend()\n",
        "plt.show()"
      ],
      "execution_count": null,
      "outputs": [
        {
          "output_type": "display_data",
          "data": {
            "image/png": "[encoded data removed]",
            "text/plain": [
              "<Figure size 432x288 with 1 Axes>"
            ]
          },
          "metadata": {
            "tags": [],
            "needs_background": "light"
          }
        }
      ]
    },
    {
      "cell_type": "code",
      "metadata": {
        "id": "WvncWuDjrceT"
      },
      "source": [
        ""
      ],
      "execution_count": null,
      "outputs": []
    },
    {
      "cell_type": "markdown",
      "metadata": {
        "id": "wEY6bIoywiC1"
      },
      "source": [
        "**Adding More units to Hidden layers**"
      ]
    },
    {
      "cell_type": "code",
      "metadata": {
        "id": "_CURyuPpw0WD"
      },
      "source": [
        "model_hid = models.Sequential()\n",
        "model_hid.add(layers.Dense(32, activation='relu', input_shape=(10000, )))\n",
        "model_hid.add(layers.Dense(64, activation='relu'))\n",
        "model_hid.add(layers.Dense(64, activation='relu'))\n",
        "model_hid.add(layers.Dense(1, activation='sigmoid'))\n",
        "\n",
        "model_hid.compile(optimizer='rmsprop', loss='binary_crossentropy', metrics=['accuracy'])"
      ],
      "execution_count": null,
      "outputs": []
    },
    {
      "cell_type": "code",
      "metadata": {
        "id": "AzAk8mvjxnV_",
        "colab": {
          "base_uri": "https://localhost:8080/",
          "height": 173
        },
        "outputId": "6f1ae25f-b53a-47a6-b845-5c2d99b61698"
      },
      "source": [
        "start = time.time()\n",
        "model_hid.fit(x_partial_train, y_partial_train, epochs=4, batch_size=512, validation_data=(x_val, y_val))\n",
        "end = time.time()\n",
        "print(end-start)"
      ],
      "execution_count": null,
      "outputs": [
        {
          "output_type": "stream",
          "text": [
            "Epoch 1/4\n",
            "30/30 [==============================] - 1s 24ms/step - loss: 0.5014 - accuracy: 0.7641 - val_loss: 0.3223 - val_accuracy: 0.8785\n",
            "Epoch 2/4\n",
            "30/30 [==============================] - 1s 17ms/step - loss: 0.2707 - accuracy: 0.8967 - val_loss: 0.3657 - val_accuracy: 0.8496\n",
            "Epoch 3/4\n",
            "30/30 [==============================] - 1s 17ms/step - loss: 0.1872 - accuracy: 0.9314 - val_loss: 0.3408 - val_accuracy: 0.8699\n",
            "Epoch 4/4\n",
            "30/30 [==============================] - 1s 17ms/step - loss: 0.1639 - accuracy: 0.9401 - val_loss: 0.2924 - val_accuracy: 0.8874\n",
            "3.2272696495056152\n"
          ],
          "name": "stdout"
        }
      ]
    },
    {
      "cell_type": "code",
      "metadata": {
        "id": "X62qBCVwxwQJ",
        "colab": {
          "base_uri": "https://localhost:8080/",
          "height": 35
        },
        "outputId": "a1f8d1bf-8009-473b-fbb5-04c2ad660b84"
      },
      "source": [
        "summary_hid = model_hid.history.history\n",
        "summary_hid.keys()"
      ],
      "execution_count": null,
      "outputs": [
        {
          "output_type": "execute_result",
          "data": {
            "text/plain": [
              "dict_keys(['loss', 'accuracy', 'val_loss', 'val_accuracy'])"
            ]
          },
          "metadata": {
            "tags": []
          },
          "execution_count": 58
        }
      ]
    },
    {
      "cell_type": "code",
      "metadata": {
        "id": "cIqYC56wx-gw",
        "colab": {
          "base_uri": "https://localhost:8080/",
          "height": 295
        },
        "outputId": "20e3a532-0438-4091-b441-4eec7749fda7"
      },
      "source": [
        "loss_values= summary_hid['loss']\n",
        "val_loss = summary_hid['val_loss']\n",
        "epochs = range(1, 5)\n",
        "plt.plot(epochs, loss_values, 'bo', label = \"Training loss\")\n",
        "plt.plot(epochs, val_loss, 'ro', label = \"validation loss\")\n",
        "plt.title('Training & Validation loss for more units model')\n",
        "plt.xlabel('Epochs')\n",
        "plt.ylabel('Loss')\n",
        "plt.legend()\n",
        "plt.show()"
      ],
      "execution_count": null,
      "outputs": [
        {
          "output_type": "display_data",
          "data": {
            "image/png": "[encoded data removed]",
            "text/plain": [
              "<Figure size 432x288 with 1 Axes>"
            ]
          },
          "metadata": {
            "tags": [],
            "needs_background": "light"
          }
        }
      ]
    },
    {
      "cell_type": "code",
      "metadata": {
        "id": "OBodoXSoyJ-k",
        "colab": {
          "base_uri": "https://localhost:8080/",
          "height": 295
        },
        "outputId": "2bb5f9e8-f76d-4881-d13c-539238095256"
      },
      "source": [
        "accuracy= summary_hid['accuracy']\n",
        "val_accuracy = summary_hid['val_accuracy']\n",
        "epochs = range(1, 5)\n",
        "plt.plot(epochs, accuracy, 'bo', label = \"Accuracy\")\n",
        "plt.plot(epochs, val_accuracy, 'ro', label = \"validation accuracy \")\n",
        "plt.title('Accuracy & Validation Accuracy for more units model')\n",
        "plt.xlabel('Epochs')\n",
        "plt.ylabel('Accuracy')\n",
        "plt.legend()\n",
        "plt.show()"
      ],
      "execution_count": null,
      "outputs": [
        {
          "output_type": "display_data",
          "data": {
            "image/png": "[encoded data removed]",
            "text/plain": [
              "<Figure size 432x288 with 1 Axes>"
            ]
          },
          "metadata": {
            "tags": [],
            "needs_background": "light"
          }
        }
      ]
    },
    {
      "cell_type": "code",
      "metadata": {
        "id": "JOV9tbZoyTHO",
        "colab": {
          "base_uri": "https://localhost:8080/",
          "height": 52
        },
        "outputId": "1616f22a-cc16-470b-c6bc-fba2d3403cc4"
      },
      "source": [
        "model_hid.evaluate(x_test, y_test)"
      ],
      "execution_count": null,
      "outputs": [
        {
          "output_type": "stream",
          "text": [
            "782/782 [==============================] - 2s 2ms/step - loss: 0.3189 - accuracy: 0.8758\n"
          ],
          "name": "stdout"
        },
        {
          "output_type": "execute_result",
          "data": {
            "text/plain": [
              "[0.3189347982406616, 0.8758000135421753]"
            ]
          },
          "metadata": {
            "tags": []
          },
          "execution_count": 61
        }
      ]
    },
    {
      "cell_type": "markdown",
      "metadata": {
        "id": "DXrOtz8hzvwn"
      },
      "source": [
        "**Changing Activation Function**"
      ]
    },
    {
      "cell_type": "code",
      "metadata": {
        "id": "QepzOHSEyoI4"
      },
      "source": [
        "model_tan = models.Sequential()\n",
        "model_tan.add(layers.Dense(16, activation='tanh', input_shape=(10000, )))\n",
        "model_tan.add(layers.Dense(16, activation='tanh'))\n",
        "model_tan.add(layers.Dense(1, activation='sigmoid'))\n",
        "\n",
        "model_tan.compile(optimizer='rmsprop', loss='binary_crossentropy', metrics=['accuracy'])"
      ],
      "execution_count": null,
      "outputs": []
    },
    {
      "cell_type": "code",
      "metadata": {
        "id": "CT2dRtOC0LTT",
        "colab": {
          "base_uri": "https://localhost:8080/",
          "height": 381
        },
        "outputId": "a23508a5-9ee0-489c-c11a-f83f2d2e39f7"
      },
      "source": [
        "start = time.time()\n",
        "model_tan.fit(x_partial_train, y_partial_train, epochs=10, batch_size=512, validation_data=(x_val, y_val))\n",
        "end = time.time()\n",
        "print(end-start)"
      ],
      "execution_count": null,
      "outputs": [
        {
          "output_type": "stream",
          "text": [
            "Epoch 1/10\n",
            "30/30 [==============================] - 1s 25ms/step - loss: 0.4939 - accuracy: 0.8059 - val_loss: 0.3845 - val_accuracy: 0.8719\n",
            "Epoch 2/10\n",
            "30/30 [==============================] - 1s 18ms/step - loss: 0.3044 - accuracy: 0.9079 - val_loss: 0.3199 - val_accuracy: 0.8778\n",
            "Epoch 3/10\n",
            "30/30 [==============================] - 1s 18ms/step - loss: 0.2210 - accuracy: 0.9313 - val_loss: 0.2922 - val_accuracy: 0.8823\n",
            "Epoch 4/10\n",
            "30/30 [==============================] - 1s 18ms/step - loss: 0.1678 - accuracy: 0.9497 - val_loss: 0.2704 - val_accuracy: 0.8908\n",
            "Epoch 5/10\n",
            "30/30 [==============================] - 1s 19ms/step - loss: 0.1270 - accuracy: 0.9625 - val_loss: 0.3279 - val_accuracy: 0.8691\n",
            "Epoch 6/10\n",
            "30/30 [==============================] - 1s 19ms/step - loss: 0.1038 - accuracy: 0.9691 - val_loss: 0.3079 - val_accuracy: 0.8828\n",
            "Epoch 7/10\n",
            "30/30 [==============================] - 1s 18ms/step - loss: 0.0822 - accuracy: 0.9767 - val_loss: 0.3339 - val_accuracy: 0.8799\n",
            "Epoch 8/10\n",
            "30/30 [==============================] - 1s 19ms/step - loss: 0.0639 - accuracy: 0.9835 - val_loss: 0.3903 - val_accuracy: 0.8723\n",
            "Epoch 9/10\n",
            "30/30 [==============================] - 1s 19ms/step - loss: 0.0478 - accuracy: 0.9877 - val_loss: 0.4248 - val_accuracy: 0.8738\n",
            "Epoch 10/10\n",
            "30/30 [==============================] - 1s 18ms/step - loss: 0.0391 - accuracy: 0.9903 - val_loss: 0.4490 - val_accuracy: 0.8734\n",
            "6.4829182624816895\n"
          ],
          "name": "stdout"
        }
      ]
    },
    {
      "cell_type": "code",
      "metadata": {
        "id": "0m3OGtFA1WNe",
        "colab": {
          "base_uri": "https://localhost:8080/",
          "height": 35
        },
        "outputId": "1719f55d-4802-45ad-a40a-cac4fc57f2ee"
      },
      "source": [
        "summary_tan = model_tan.history.history\n",
        "summary_tan.keys()"
      ],
      "execution_count": null,
      "outputs": [
        {
          "output_type": "execute_result",
          "data": {
            "text/plain": [
              "dict_keys(['loss', 'accuracy', 'val_loss', 'val_accuracy'])"
            ]
          },
          "metadata": {
            "tags": []
          },
          "execution_count": 39
        }
      ]
    },
    {
      "cell_type": "code",
      "metadata": {
        "id": "ZMHCwzKF1d7S",
        "colab": {
          "base_uri": "https://localhost:8080/",
          "height": 295
        },
        "outputId": "fa8e45ae-e7f0-477e-84d5-5f51cfccd1ea"
      },
      "source": [
        "loss_values= summary_tan['loss']\n",
        "val_loss = summary_tan['val_loss']\n",
        "epochs = range(1, 11)\n",
        "plt.plot(epochs, loss_values, 'bo', label = \"Training loss\")\n",
        "plt.plot(epochs, val_loss, 'ro', label = \"validation loss\")\n",
        "plt.title('Training & Validation loss for new activation model')\n",
        "plt.xlabel('Epochs')\n",
        "plt.ylabel('Loss')\n",
        "plt.legend()\n",
        "plt.show()"
      ],
      "execution_count": null,
      "outputs": [
        {
          "output_type": "display_data",
          "data": {
            "image/png": "[encoded data removed]",
            "text/plain": [
              "<Figure size 432x288 with 1 Axes>"
            ]
          },
          "metadata": {
            "tags": [],
            "needs_background": "light"
          }
        }
      ]
    },
    {
      "cell_type": "code",
      "metadata": {
        "id": "U5tXKi0M1qNv",
        "colab": {
          "base_uri": "https://localhost:8080/",
          "height": 295
        },
        "outputId": "5ed3357c-ff65-4f50-88dd-85761af1a4d7"
      },
      "source": [
        "accuracy= summary_tan['accuracy']\n",
        "val_accuracy = summary_tan['val_accuracy']\n",
        "epochs = range(1, 11)\n",
        "plt.plot(epochs, accuracy, 'bo', label = \"Accuracy\")\n",
        "plt.plot(epochs, val_accuracy, 'ro', label = \"validation accuracy \")\n",
        "plt.title('Accuracy & Validation Accuracy for new activation model')\n",
        "plt.xlabel('Epochs')\n",
        "plt.ylabel('Accuracy')\n",
        "plt.legend()\n",
        "plt.show()"
      ],
      "execution_count": null,
      "outputs": [
        {
          "output_type": "display_data",
          "data": {
            "image/png": "[encoded data removed]",
            "text/plain": [
              "<Figure size 432x288 with 1 Axes>"
            ]
          },
          "metadata": {
            "tags": [],
            "needs_background": "light"
          }
        }
      ]
    },
    {
      "cell_type": "code",
      "metadata": {
        "id": "uk0-gvs2Bd0w",
        "colab": {
          "base_uri": "https://localhost:8080/",
          "height": 52
        },
        "outputId": "4cda9c14-3cf1-43f0-b307-a7dd5c737440"
      },
      "source": [
        "model_tan.evaluate(x_test, y_test)"
      ],
      "execution_count": null,
      "outputs": [
        {
          "output_type": "stream",
          "text": [
            "782/782 [==============================] - 2s 2ms/step - loss: 0.5013 - accuracy: 0.8591\n"
          ],
          "name": "stdout"
        },
        {
          "output_type": "execute_result",
          "data": {
            "text/plain": [
              "[0.501252293586731, 0.8591200113296509]"
            ]
          },
          "metadata": {
            "tags": []
          },
          "execution_count": 42
        }
      ]
    },
    {
      "cell_type": "markdown",
      "metadata": {
        "id": "M1TTYda72olG"
      },
      "source": [
        "**Changing the loss function model**"
      ]
    },
    {
      "cell_type": "code",
      "metadata": {
        "id": "kCdZgbTt2gHF"
      },
      "source": [
        "model_ms = models.Sequential()\n",
        "model_ms.add(layers.Dense(16, activation='tanh', input_shape=(10000, )))\n",
        "model_ms.add(layers.Dense(16, activation='tanh'))\n",
        "model_ms.add(layers.Dense(1, activation='sigmoid'))\n",
        "\n",
        "model_ms.compile(optimizer='rmsprop', loss='mse', metrics=['accuracy'])"
      ],
      "execution_count": null,
      "outputs": []
    },
    {
      "cell_type": "code",
      "metadata": {
        "id": "jyC8tEPFAyj9",
        "colab": {
          "base_uri": "https://localhost:8080/",
          "height": 381
        },
        "outputId": "25787e4e-32d6-47bd-c0b9-56999813cab3"
      },
      "source": [
        "start = time.time()\n",
        "model_ms.fit(x_partial_train, y_partial_train, epochs=10, batch_size=512, validation_data=(x_val, y_val))\n",
        "end = time.time()\n",
        "print(end-start)"
      ],
      "execution_count": null,
      "outputs": [
        {
          "output_type": "stream",
          "text": [
            "Epoch 1/10\n",
            "30/30 [==============================] - 1s 24ms/step - loss: 0.1618 - accuracy: 0.7884 - val_loss: 0.1198 - val_accuracy: 0.8555\n",
            "Epoch 2/10\n",
            "30/30 [==============================] - 1s 18ms/step - loss: 0.0842 - accuracy: 0.9085 - val_loss: 0.0878 - val_accuracy: 0.8927\n",
            "Epoch 3/10\n",
            "30/30 [==============================] - 1s 18ms/step - loss: 0.0570 - accuracy: 0.9352 - val_loss: 0.0828 - val_accuracy: 0.8919\n",
            "Epoch 4/10\n",
            "30/30 [==============================] - 1s 17ms/step - loss: 0.0418 - accuracy: 0.9521 - val_loss: 0.0820 - val_accuracy: 0.8884\n",
            "Epoch 5/10\n",
            "30/30 [==============================] - 1s 18ms/step - loss: 0.0334 - accuracy: 0.9614 - val_loss: 0.0903 - val_accuracy: 0.8790\n",
            "Epoch 6/10\n",
            "30/30 [==============================] - 1s 18ms/step - loss: 0.0242 - accuracy: 0.9748 - val_loss: 0.0904 - val_accuracy: 0.8792\n",
            "Epoch 7/10\n",
            "30/30 [==============================] - 1s 18ms/step - loss: 0.0196 - accuracy: 0.9793 - val_loss: 0.0940 - val_accuracy: 0.8782\n",
            "Epoch 8/10\n",
            "30/30 [==============================] - 1s 18ms/step - loss: 0.0168 - accuracy: 0.9815 - val_loss: 0.0981 - val_accuracy: 0.8772\n",
            "Epoch 9/10\n",
            "30/30 [==============================] - 1s 18ms/step - loss: 0.0139 - accuracy: 0.9847 - val_loss: 0.1030 - val_accuracy: 0.8729\n",
            "Epoch 10/10\n",
            "30/30 [==============================] - 1s 18ms/step - loss: 0.0081 - accuracy: 0.9924 - val_loss: 0.1056 - val_accuracy: 0.8718\n",
            "6.416791200637817\n"
          ],
          "name": "stdout"
        }
      ]
    },
    {
      "cell_type": "code",
      "metadata": {
        "id": "3c7EWHvn3Fy2",
        "colab": {
          "base_uri": "https://localhost:8080/",
          "height": 35
        },
        "outputId": "943c0be5-184f-480d-823d-90bc58cdc82a"
      },
      "source": [
        "summary_ms = model_ms.history.history\n",
        "summary_ms.keys()"
      ],
      "execution_count": null,
      "outputs": [
        {
          "output_type": "execute_result",
          "data": {
            "text/plain": [
              "dict_keys(['loss', 'accuracy', 'val_loss', 'val_accuracy'])"
            ]
          },
          "metadata": {
            "tags": []
          },
          "execution_count": 45
        }
      ]
    },
    {
      "cell_type": "code",
      "metadata": {
        "id": "PUw--Rd4BBHo",
        "colab": {
          "base_uri": "https://localhost:8080/",
          "height": 295
        },
        "outputId": "69d78390-1244-4bb7-aa6e-07a4158bc069"
      },
      "source": [
        "loss_values= summary_ms['loss']\n",
        "val_loss = summary_ms['val_loss']\n",
        "epochs = range(1, 11)\n",
        "plt.plot(epochs, loss_values, 'bo', label = \"Training loss\")\n",
        "plt.plot(epochs, val_loss, 'ro', label = \"validation loss\")\n",
        "plt.title('Training & Validation loss for new loss function model')\n",
        "plt.xlabel('Epochs')\n",
        "plt.ylabel('Loss')\n",
        "plt.legend()\n",
        "plt.show()"
      ],
      "execution_count": null,
      "outputs": [
        {
          "output_type": "display_data",
          "data": {
            "image/png": "[encoded data removed]",
            "text/plain": [
              "<Figure size 432x288 with 1 Axes>"
            ]
          },
          "metadata": {
            "tags": [],
            "needs_background": "light"
          }
        }
      ]
    },
    {
      "cell_type": "code",
      "metadata": {
        "id": "UN6DPSP9BBVL",
        "colab": {
          "base_uri": "https://localhost:8080/",
          "height": 295
        },
        "outputId": "72f10139-9373-4204-ae01-7fdb6a75b491"
      },
      "source": [
        "accuracy= summary_ms['accuracy']\n",
        "val_accuracy = summary_ms['val_accuracy']\n",
        "epochs = range(1, 11)\n",
        "plt.plot(epochs, accuracy, 'bo', label = \"Accuracy\")\n",
        "plt.plot(epochs, val_accuracy, 'ro', label = \"validation accuracy \")\n",
        "plt.title('Accuracy & Validation Accuracy for new loss function model')\n",
        "plt.xlabel('Epochs')\n",
        "plt.ylabel('Accuracy')\n",
        "plt.legend()\n",
        "plt.show()"
      ],
      "execution_count": null,
      "outputs": [
        {
          "output_type": "display_data",
          "data": {
            "image/png": "[encoded data removed]",
            "text/plain": [
              "<Figure size 432x288 with 1 Axes>"
            ]
          },
          "metadata": {
            "tags": [],
            "needs_background": "light"
          }
        }
      ]
    },
    {
      "cell_type": "code",
      "metadata": {
        "id": "AwCc3bj_BaHA",
        "colab": {
          "base_uri": "https://localhost:8080/",
          "height": 52
        },
        "outputId": "5898de80-bf5d-4bda-aaa8-26e438571d19"
      },
      "source": [
        "model_ms.evaluate(x_test, y_test)"
      ],
      "execution_count": null,
      "outputs": [
        {
          "output_type": "stream",
          "text": [
            "782/782 [==============================] - 2s 2ms/step - loss: 0.1157 - accuracy: 0.8610\n"
          ],
          "name": "stdout"
        },
        {
          "output_type": "execute_result",
          "data": {
            "text/plain": [
              "[0.11570567637681961, 0.8610399961471558]"
            ]
          },
          "metadata": {
            "tags": []
          },
          "execution_count": 48
        }
      ]
    },
    {
      "cell_type": "markdown",
      "metadata": {
        "id": "Dc_DK7sVCJH7"
      },
      "source": [
        "**Changing the optimizer to adam**"
      ]
    },
    {
      "cell_type": "code",
      "metadata": {
        "id": "pIzJ57x0B00O"
      },
      "source": [
        "model_adam = models.Sequential()\n",
        "model_adam.add(layers.Dense(16, activation='tanh', input_shape=(10000, )))\n",
        "model_adam.add(layers.Dense(16, activation='tanh'))\n",
        "model_adam.add(layers.Dense(1, activation='sigmoid'))\n",
        "\n",
        "model_adam.compile(optimizer='adam', loss='binary_crossentropy', metrics=['accuracy'])"
      ],
      "execution_count": null,
      "outputs": []
    },
    {
      "cell_type": "code",
      "metadata": {
        "id": "_loHzAUzB1B_",
        "colab": {
          "base_uri": "https://localhost:8080/",
          "height": 381
        },
        "outputId": "273fba39-9839-446b-c6fe-6b4de64fc83b"
      },
      "source": [
        "start = time.time()\n",
        "model_adam.fit(x_partial_train, y_partial_train, epochs=10, batch_size=512, validation_data=(x_val, y_val))\n",
        "end = time.time()\n",
        "print(end-start)"
      ],
      "execution_count": null,
      "outputs": [
        {
          "output_type": "stream",
          "text": [
            "Epoch 1/10\n",
            "30/30 [==============================] - 1s 24ms/step - loss: 0.5317 - accuracy: 0.7797 - val_loss: 0.3951 - val_accuracy: 0.8537\n",
            "Epoch 2/10\n",
            "30/30 [==============================] - 1s 18ms/step - loss: 0.2949 - accuracy: 0.9011 - val_loss: 0.2931 - val_accuracy: 0.8860\n",
            "Epoch 3/10\n",
            "30/30 [==============================] - 1s 17ms/step - loss: 0.1979 - accuracy: 0.9357 - val_loss: 0.2736 - val_accuracy: 0.8892\n",
            "Epoch 4/10\n",
            "30/30 [==============================] - 1s 18ms/step - loss: 0.1445 - accuracy: 0.9579 - val_loss: 0.2776 - val_accuracy: 0.8858\n",
            "Epoch 5/10\n",
            "30/30 [==============================] - 1s 18ms/step - loss: 0.1087 - accuracy: 0.9712 - val_loss: 0.2958 - val_accuracy: 0.8814\n",
            "Epoch 6/10\n",
            "30/30 [==============================] - 1s 18ms/step - loss: 0.0819 - accuracy: 0.9812 - val_loss: 0.3203 - val_accuracy: 0.8791\n",
            "Epoch 7/10\n",
            "30/30 [==============================] - 1s 18ms/step - loss: 0.0610 - accuracy: 0.9881 - val_loss: 0.3403 - val_accuracy: 0.8762\n",
            "Epoch 8/10\n",
            "30/30 [==============================] - 1s 18ms/step - loss: 0.0447 - accuracy: 0.9935 - val_loss: 0.3673 - val_accuracy: 0.8727\n",
            "Epoch 9/10\n",
            "30/30 [==============================] - 1s 18ms/step - loss: 0.0333 - accuracy: 0.9960 - val_loss: 0.3929 - val_accuracy: 0.8733\n",
            "Epoch 10/10\n",
            "30/30 [==============================] - 1s 17ms/step - loss: 0.0249 - accuracy: 0.9981 - val_loss: 0.4196 - val_accuracy: 0.8712\n",
            "6.307232141494751\n"
          ],
          "name": "stdout"
        }
      ]
    },
    {
      "cell_type": "code",
      "metadata": {
        "id": "O8q1OEwOB1M1",
        "colab": {
          "base_uri": "https://localhost:8080/",
          "height": 35
        },
        "outputId": "d82c8745-bf97-46a9-f489-6b2ed514b045"
      },
      "source": [
        "summary_adam = model_adam.history.history\n",
        "summary_adam.keys()"
      ],
      "execution_count": null,
      "outputs": [
        {
          "output_type": "execute_result",
          "data": {
            "text/plain": [
              "dict_keys(['loss', 'accuracy', 'val_loss', 'val_accuracy'])"
            ]
          },
          "metadata": {
            "tags": []
          },
          "execution_count": 51
        }
      ]
    },
    {
      "cell_type": "code",
      "metadata": {
        "id": "-qaLavgxCf8b",
        "colab": {
          "base_uri": "https://localhost:8080/",
          "height": 295
        },
        "outputId": "a2749d98-183a-4a99-9fe8-a4315225430b"
      },
      "source": [
        "loss_values= summary_ms['loss']\n",
        "val_loss = summary_ms['val_loss']\n",
        "epochs = range(1, 11)\n",
        "plt.plot(epochs, loss_values, 'bo', label = \"Training loss\")\n",
        "plt.plot(epochs, val_loss, 'ro', label = \"validation loss\")\n",
        "plt.title('Training & Validation loss for adam optimizer model')\n",
        "plt.xlabel('Epochs')\n",
        "plt.ylabel('Loss')\n",
        "plt.legend()\n",
        "plt.show()"
      ],
      "execution_count": null,
      "outputs": [
        {
          "output_type": "display_data",
          "data": {
            "image/png": "[encoded data removed]",
            "text/plain": [
              "<Figure size 432x288 with 1 Axes>"
            ]
          },
          "metadata": {
            "tags": [],
            "needs_background": "light"
          }
        }
      ]
    },
    {
      "cell_type": "code",
      "metadata": {
        "id": "b4umO7OmCgWT",
        "colab": {
          "base_uri": "https://localhost:8080/",
          "height": 295
        },
        "outputId": "3511ab9c-cb9c-4558-f5ce-c2e29f988075"
      },
      "source": [
        "accuracy= summary_ms['accuracy']\n",
        "val_accuracy = summary_ms['val_accuracy']\n",
        "epochs = range(1, 11)\n",
        "plt.plot(epochs, accuracy, 'bo', label = \"Accuracy\")\n",
        "plt.plot(epochs, val_accuracy, 'ro', label = \"validation accuracy \")\n",
        "plt.title('Accuracy & Validation Accuracy for adam optimizer model')\n",
        "plt.xlabel('Epochs')\n",
        "plt.ylabel('Accuracy')\n",
        "plt.legend()\n",
        "plt.show()"
      ],
      "execution_count": null,
      "outputs": [
        {
          "output_type": "display_data",
          "data": {
            "image/png": "[encoded data removed]",
            "text/plain": [
              "<Figure size 432x288 with 1 Axes>"
            ]
          },
          "metadata": {
            "tags": [],
            "needs_background": "light"
          }
        }
      ]
    },
    {
      "cell_type": "markdown",
      "metadata": {
        "id": "3cRoEgsj6MBO"
      },
      "source": [
        "**Logistic Classification**"
      ]
    },
    {
      "cell_type": "code",
      "metadata": {
        "id": "CXrA52jq4DWK"
      },
      "source": [
        "from sklearn.linear_model import LogisticRegression\n",
        "from sklearn.metrics import accuracy_score"
      ],
      "execution_count": null,
      "outputs": []
    },
    {
      "cell_type": "code",
      "metadata": {
        "id": "kbMSlqMc7aTs",
        "colab": {
          "base_uri": "https://localhost:8080/",
          "height": 173
        },
        "outputId": "9b2139f3-3b10-4cdb-dac2-c283ee0c3e33"
      },
      "source": [
        "lr = LogisticRegression()\n",
        "lr.fit(x_partial_train, y_partial_train)\n",
        "lr_pred = lr.predict(x_test)\n",
        "print(\"Accuaracy score using Logistic Regression model:\",accuracy_score(lr_pred, y_test))"
      ],
      "execution_count": null,
      "outputs": [
        {
          "output_type": "stream",
          "text": [
            "/usr/local/lib/python3.6/dist-packages/sklearn/linear_model/_logistic.py:940: ConvergenceWarning: lbfgs failed to converge (status=1):\n",
            "STOP: TOTAL NO. of ITERATIONS REACHED LIMIT.\n",
            "\n",
            "Increase the number of iterations (max_iter) or scale the data as shown in:\n",
            "    https://scikit-learn.org/stable/modules/preprocessing.html\n",
            "Please also refer to the documentation for alternative solver options:\n",
            "    https://scikit-learn.org/stable/modules/linear_model.html#logistic-regression\n",
            "  extra_warning_msg=_LOGISTIC_SOLVER_CONVERGENCE_MSG)\n"
          ],
          "name": "stderr"
        },
        {
          "output_type": "stream",
          "text": [
            "Accuaracy score using Logistic Regression model: 0.8608\n"
          ],
          "name": "stdout"
        }
      ]
    },
    {
      "cell_type": "code",
      "metadata": {
        "id": "IjYS6j5B8IKX",
        "colab": {
          "base_uri": "https://localhost:8080/",
          "height": 35
        },
        "outputId": "2c424c26-65ca-4c51-de06-c30dbf222723"
      },
      "source": [
        "train_labels"
      ],
      "execution_count": null,
      "outputs": [
        {
          "output_type": "execute_result",
          "data": {
            "text/plain": [
              "array([1, 0, 0, ..., 0, 1, 0])"
            ]
          },
          "metadata": {
            "tags": []
          },
          "execution_count": 55
        }
      ]
    },
    {
      "cell_type": "code",
      "metadata": {
        "id": "EkRkr8uEByGa"
      },
      "source": [
        ""
      ],
      "execution_count": null,
      "outputs": []
    }
  ]
}